{
 "cells": [
  {
   "cell_type": "code",
   "execution_count": 1,
   "metadata": {},
   "outputs": [
    {
     "name": "stdout",
     "output_type": "stream",
     "text": [
      "Googling...\n"
     ]
    }
   ],
   "source": [
    "import requests, webbrowser, sys, bs4\n",
    "\n",
    "print('Googling...')\n",
    "\n",
    "#get arguments and request the search page\n",
    "\n",
    "#res = requests.get('https://google.com/search?q=' + '+'.join(sys.argv[1:]))\n",
    "\n",
    "res = requests.get(''+'https://google.com/search?q='+'+'.join(sys.argv[1:]))\n",
    "\n",
    "res.raise_for_status()"
   ]
  },
  {
   "cell_type": "code",
   "execution_count": 2,
   "metadata": {},
   "outputs": [],
   "source": [
    "#find all the results\n",
    "\n",
    "#retrieve top search result links\n",
    "soup = bs4.BeautifulSoup(res.text, 'lxml')\n",
    "\n",
    "#print(soup)\n",
    "\n",
    "#open a browser tab for each results\n",
    "linkElems = soup.select('div > a')\n",
    "\n",
    "#print(linkElems)\n"
   ]
  },
  {
   "cell_type": "code",
   "execution_count": 3,
   "metadata": {},
   "outputs": [],
   "source": [
    "#open web browsers for each result\n",
    "\n",
    "numOpen = min(5, len(linkElems))\n",
    "\n",
    "for i in range(numOpen):\n",
    "    webbrowser.open('https://google.com' + linkElems[i].get('href'))"
   ]
  },
  {
   "cell_type": "code",
   "execution_count": null,
   "metadata": {},
   "outputs": [],
   "source": []
  }
 ],
 "metadata": {
  "kernelspec": {
   "display_name": "Python 3",
   "language": "python",
   "name": "python3"
  },
  "language_info": {
   "codemirror_mode": {
    "name": "ipython",
    "version": 3
   },
   "file_extension": ".py",
   "mimetype": "text/x-python",
   "name": "python",
   "nbconvert_exporter": "python",
   "pygments_lexer": "ipython3",
   "version": "3.7.3"
  }
 },
 "nbformat": 4,
 "nbformat_minor": 2
}
